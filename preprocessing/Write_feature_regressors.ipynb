{
 "cells": [
  {
   "cell_type": "code",
   "execution_count": null,
   "metadata": {
    "collapsed": true
   },
   "outputs": [],
   "source": [
    "#oops, i shouldn't be updating the timing files, rather making a design matrix with the correct weights. dumb. that makes this \n",
    "# essentially obsolete."
   ]
  },
  {
   "cell_type": "code",
   "execution_count": 1,
   "metadata": {
    "collapsed": false
   },
   "outputs": [],
   "source": [
    "import os\n",
    "import numpy as np\n",
    "import pandas as pd\n",
    "subList = [\"LMVPA001\", \"LMVPA002\", \"LMVPA003\", \"LMVPA005\", \n",
    "           \"LMVPA006\", \"LMVPA007\", \"LMVPA008\", \"LMVPA009\", \n",
    "           \"LMVPA010\", \"LMVPA011\", \"LMVPA013\", \"LMVPA014\", \n",
    "           \"LMVPA015\", \"LMVPA016\", \"LMVPA017\", \"LMVPA018\", \"LMVPA019\"]\n",
    "subData = {\"LMVPA001\": [\"Run1\", \"Run2\", \"Run3\", \"Run4\"],\n",
    "          \"LMVPA002\": [\"Run1\", \"Run2\", \"Run3\", \"Run4\"],\n",
    "          \"LMVPA003\": [\"Run1\", \"Run2\", \"Run3\", \"Run4\"],\n",
    "          \"LMVPA005\": [\"Run1\", \"Run2\", \"Run3\", \"Run4\", \"Run5\", \"Run6\", \"Run7\", \"Run8\"],\n",
    "          \"LMVPA006\": [\"Run1\", \"Run2\", \"Run3\", \"Run4\", \"Run5\", \"Run6\", \"Run7\", \"Run8\"],\n",
    "          \"LMVPA007\": [\"Run1\", \"Run2\", \"Run3\", \"Run4\", \"Run5\", \"Run6\", \"Run7\", \"Run8\"],\n",
    "          \"LMVPA008\": [\"Run1\", \"Run2\", \"Run3\", \"Run4\", \"Run5\", \"Run6\", \"Run7\", \"Run8\"],\n",
    "          \"LMVPA009\": [\"Run1\", \"Run2\", \"Run3\", \"Run4\", \"Run5\", \"Run6\", \"Run7\", \"Run8\"],\n",
    "          \"LMVPA010\": [\"Run1\", \"Run2\", \"Run3\", \"Run4\", \"Run5\", \"Run6\", \"Run7\", \"Run8\"],\n",
    "          \"LMVPA011\": [\"Run1\", \"Run2\", \"Run3\", \"Run4\", \"Run5\", \"Run6\", \"Run7\", \"Run8\"],\n",
    "          \"LMVPA013\": [\"Run1\", \"Run2\", \"Run3\", \"Run4\", \"Run5\", \"Run6\", \"Run7\", \"Run8\"],\n",
    "          \"LMVPA014\": [\"Run1\", \"Run2\", \"Run3\", \"Run4\", \"Run5\", \"Run6\", \"Run7\", \"Run8\"],\n",
    "          \"LMVPA015\": [\"Run1\", \"Run2\", \"Run3\", \"Run4\", \"Run5\", \"Run6\", \"Run7\", \"Run8\"],\n",
    "          \"LMVPA016\": [\"Run1\", \"Run2\", \"Run3\", \"Run4\", \"Run5\", \"Run6\", \"Run7\", \"Run8\"],\n",
    "          \"LMVPA017\": [\"Run1\", \"Run2\", \"Run3\", \"Run4\", \"Run5\", \"Run6\", \"Run7\", \"Run8\"],\n",
    "          \"LMVPA018\": [\"Run1\", \"Run2\", \"Run3\", \"Run4\", \"Run5\", \"Run6\", \"Run7\", \"Run8\"],\n",
    "          \"LMVPA019\": [\"Run1\", \"Run2\", \"Run3\", \"Run4\", \"Run5\", \"Run6\", \"Run7\", \"Run8\"]\n",
    "          }\n",
    "featName = ['topic' + str(i+1) for i in np.arange(0,97)]\n",
    "sent_identities = np.array(['touch', 'light', 'hit', 'crush', 'kiss', 'stretch', 'kick', 'console'])\n",
    "rootDir = \"D:\\\\\"\n",
    "# projectDir = os.path.join(rootDir, 'CloudStation', 'scratchpad', \n",
    "projectDir = os.path.join(rootDir, 'fmri', \n",
    "                         'LanguageMVPA','regressor')"
   ]
  },
  {
   "cell_type": "code",
   "execution_count": 2,
   "metadata": {
    "collapsed": false
   },
   "outputs": [],
   "source": [
    "#get features. they correspond to \"sentence identities\"\n",
    "featureMatrix = pd.read_csv(\"topicRepresentation.csv\", names=featName)"
   ]
  },
  {
   "cell_type": "code",
   "execution_count": 3,
   "metadata": {
    "collapsed": false
   },
   "outputs": [],
   "source": [
    "def getverbs(sub, run):\n",
    "#     wordclean = [word.strip().lower() for word in open('words','r')]\n",
    "#   get the verbs\n",
    "    verbs = np.array([line.strip().lower().split('_', 5)[1] for line in open(\n",
    "                 os.path.join(projectDir, sub, 'orig', \n",
    "                 sub+'_'+run+'_'+'conds.txt'), 'r')])\n",
    "    verbMask = [np.array(matchword(verbs, w), dtype=bool) for w in sent_identities]\n",
    "    return verbMask\n",
    "    # append the correct number"
   ]
  },
  {
   "cell_type": "code",
   "execution_count": 4,
   "metadata": {
    "collapsed": true
   },
   "outputs": [],
   "source": [
    "# this works. but instead, let's concatenate all of them together? \n",
    "# can still run with this for starters...\n",
    "def gettimings(sub, run):\n",
    "#     timings = [line.strip().lower() for line in open(\n",
    "#                  os.path.join(projectDir, sub, 'orig', \n",
    "#                  sub+'_'+run + '.txt'), 'r')]\n",
    "    timings = np.loadtxt(os.path.join(projectDir, sub, 'orig', \n",
    "                         sub+'_'+run + '.txt'))\n",
    "    return timings"
   ]
  },
  {
   "cell_type": "code",
   "execution_count": 5,
   "metadata": {
    "collapsed": false
   },
   "outputs": [],
   "source": [
    "def matchword(wordlist, word):\n",
    "    return [wordlist[i] == word for i in np.arange(len(wordlist))]"
   ]
  },
  {
   "cell_type": "code",
   "execution_count": 6,
   "metadata": {
    "collapsed": false
   },
   "outputs": [],
   "source": [
    "def replacetimings(timingmat, t, v):\n",
    "    for i in np.arange(8):\n",
    "        timingmat[v[i],2] = featureMatrix[t][i]\n",
    "    return timingmat    "
   ]
  },
  {
   "cell_type": "code",
   "execution_count": 7,
   "metadata": {
    "collapsed": false
   },
   "outputs": [],
   "source": [
    "def makerunfiles(sub,run):\n",
    "    for topic in featName:\n",
    "        np.savetxt(os.path.join(projectDir, sub, 'topic', sub + '_' + run+ '_'+topic + '.txt'), \n",
    "                   replacetimings(gettimings(sub, run), topic, getverbs(sub,run)), \n",
    "                   fmt='%.6f', delimiter=' ') "
   ]
  },
  {
   "cell_type": "code",
   "execution_count": 8,
   "metadata": {
    "collapsed": false
   },
   "outputs": [],
   "source": [
    "# run the damn thing\n",
    "for subject in subData.keys():\n",
    "     [makerunfiles(subject, r) for r in subData[subject]]\n"
   ]
  },
  {
   "cell_type": "code",
   "execution_count": 311,
   "metadata": {
    "collapsed": false
   },
   "outputs": [],
   "source": [
    "#notes and testing\n",
    "# os.listdir(os.getcwd())# projectDir\n",
    "# os.listdir('D:\\\\CloudStation\\\\scratchpad\\\\LanguageMVPA\\\\regressor\\\\LMVPA001\\\\orig')\n",
    "# os.listdir(projectDir)\n",
    "# open('D:\\\\CloudStation\\\\scratchpad\\\\LanguageMVPA\\\\regressor\\\\LMVPA001\\\\orig\\\\LMVPA001_Run1_conds.txt').readlines()"
   ]
  },
  {
   "cell_type": "code",
   "execution_count": null,
   "metadata": {
    "collapsed": true
   },
   "outputs": [],
   "source": []
  }
 ],
 "metadata": {
  "kernelspec": {
   "display_name": "Python 2",
   "language": "python",
   "name": "python2"
  },
  "language_info": {
   "codemirror_mode": {
    "name": "ipython",
    "version": 2
   },
   "file_extension": ".py",
   "mimetype": "text/x-python",
   "name": "python",
   "nbconvert_exporter": "python",
   "pygments_lexer": "ipython2",
   "version": "2.7.10"
  }
 },
 "nbformat": 4,
 "nbformat_minor": 0
}
