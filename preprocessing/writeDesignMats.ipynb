{
 "cells": [
  {
   "cell_type": "code",
   "execution_count": 53,
   "metadata": {
    "collapsed": true
   },
   "outputs": [],
   "source": [
    "#\n",
    "import os\n",
    "import numpy as np\n",
    "import pandas as pd\n",
    "subList = [\"LMVPA001\", \"LMVPA002\", \"LMVPA003\", \"LMVPA005\", \n",
    "           \"LMVPA006\", \"LMVPA007\", \"LMVPA008\", \"LMVPA009\", \n",
    "           \"LMVPA010\", \"LMVPA011\", \"LMVPA013\", \"LMVPA014\", \n",
    "           \"LMVPA015\", \"LMVPA016\", \"LMVPA017\", \"LMVPA018\", \"LMVPA019\"]\n",
    "subData = {\"LMVPA001\": [\"Run1\", \"Run2\", \"Run3\", \"Run4\"],\n",
    "          \"LMVPA002\": [\"Run1\", \"Run2\", \"Run3\", \"Run4\"],\n",
    "          \"LMVPA003\": [\"Run1\", \"Run2\", \"Run3\", \"Run4\"],\n",
    "          \"LMVPA005\": [\"Run1\", \"Run2\", \"Run3\", \"Run4\", \"Run5\", \"Run6\", \"Run7\", \"Run8\"],\n",
    "          \"LMVPA006\": [\"Run1\", \"Run2\", \"Run3\", \"Run4\", \"Run5\", \"Run6\", \"Run7\", \"Run8\"],\n",
    "          \"LMVPA007\": [\"Run1\", \"Run2\", \"Run3\", \"Run4\", \"Run5\", \"Run6\", \"Run7\", \"Run8\"],\n",
    "          \"LMVPA008\": [\"Run1\", \"Run2\", \"Run3\", \"Run4\", \"Run5\", \"Run6\", \"Run7\", \"Run8\"],\n",
    "          \"LMVPA009\": [\"Run1\", \"Run2\", \"Run3\", \"Run4\", \"Run5\", \"Run6\", \"Run7\", \"Run8\"],\n",
    "          \"LMVPA010\": [\"Run1\", \"Run2\", \"Run3\", \"Run4\", \"Run5\", \"Run6\", \"Run7\", \"Run8\"],\n",
    "          \"LMVPA011\": [\"Run1\", \"Run2\", \"Run3\", \"Run4\", \"Run5\", \"Run6\", \"Run7\", \"Run8\"],\n",
    "          \"LMVPA013\": [\"Run1\", \"Run2\", \"Run3\", \"Run4\", \"Run5\", \"Run6\", \"Run7\", \"Run8\"],\n",
    "          \"LMVPA014\": [\"Run1\", \"Run2\", \"Run3\", \"Run4\", \"Run5\", \"Run6\", \"Run7\", \"Run8\"],\n",
    "          \"LMVPA015\": [\"Run1\", \"Run2\", \"Run3\", \"Run4\", \"Run5\", \"Run6\", \"Run7\", \"Run8\"],\n",
    "          \"LMVPA016\": [\"Run1\", \"Run2\", \"Run3\", \"Run4\", \"Run5\", \"Run6\", \"Run7\", \"Run8\"],\n",
    "          \"LMVPA017\": [\"Run1\", \"Run2\", \"Run3\", \"Run4\", \"Run5\", \"Run6\", \"Run7\", \"Run8\"],\n",
    "          \"LMVPA018\": [\"Run1\", \"Run2\", \"Run3\", \"Run4\", \"Run5\", \"Run6\", \"Run7\", \"Run8\"],\n",
    "          \"LMVPA019\": [\"Run1\", \"Run2\", \"Run3\", \"Run4\", \"Run5\", \"Run6\", \"Run7\", \"Run8\"]\n",
    "          }\n",
    "featName = ['topic' + str(i+1) for i in np.arange(0,97)]\n",
    "sent_identities = np.array(['touch', 'light', 'hit', 'crush', 'kiss', 'stretch', 'kick', 'console'])\n",
    "rootDir = \"D:\\\\\"\n",
    "projectDir = os.path.join(rootDir, 'CloudStation', 'scratchpad', 'LanguageMVPA',\n",
    "                         'regressor')"
   ]
  },
  {
   "cell_type": "code",
   "execution_count": 54,
   "metadata": {
    "collapsed": false
   },
   "outputs": [],
   "source": [
    "#get features. they correspond to \"sentence identities\"\n",
    "featureMatrix = pd.read_csv(\"topicRepresentation.csv\", names=featName)\n",
    "featureMatrix = featureMatrix.set_index(sent_identities).transpose()"
   ]
  },
  {
   "cell_type": "code",
   "execution_count": 55,
   "metadata": {
    "collapsed": true
   },
   "outputs": [],
   "source": [
    "def matchword(wordlist, word):\n",
    "    return [wordlist[i] == word for i in np.arange(len(wordlist))]"
   ]
  },
  {
   "cell_type": "code",
   "execution_count": 56,
   "metadata": {
    "collapsed": true
   },
   "outputs": [],
   "source": [
    "def getverbs(sub, run):\n",
    "#     wordclean = [word.strip().lower() for word in open('words','r')]\n",
    "#   get the verbs\n",
    "    verbs = np.array([line.strip().lower().split('_', 5)[1] for line in open(\n",
    "                 os.path.join(projectDir, sub, 'orig', \n",
    "                 sub+'_'+run+'_'+'conds.txt'), 'r')])\n",
    "#     verbMask = [np.array(matchword(verbs, w), dtype=bool) for w in sent_identities]\n",
    "    return verbs\n",
    "    # append the correct number"
   ]
  },
  {
   "cell_type": "code",
   "execution_count": 57,
   "metadata": {
    "collapsed": false
   },
   "outputs": [],
   "source": [
    "# this one needs to change to making a nConds x 97 matrix\n",
    "# just loop through verbs and replace. don't need matchwords.\n",
    "def replacetimings(v):\n",
    "    designMat = np.array([featureMatrix[i].transpose() for i in v])\n",
    "    return designMat    "
   ]
  },
  {
   "cell_type": "code",
   "execution_count": 60,
   "metadata": {
    "collapsed": true
   },
   "outputs": [],
   "source": [
    "def makerunfiles(sub,run):\n",
    "    np.savetxt(os.path.join(projectDir, sub, 'topic', sub + '_' + run + '_designmat.txt'), \n",
    "               replacetimings(getverbs(sub, run)), \n",
    "               fmt='%.6f', delimiter=' ') "
   ]
  },
  {
   "cell_type": "code",
   "execution_count": 61,
   "metadata": {
    "collapsed": true
   },
   "outputs": [],
   "source": [
    "# run the damn thing\n",
    "for subject in subData.keys():\n",
    "     [makerunfiles(subject, r) for r in subData[subject]]"
   ]
  },
  {
   "cell_type": "code",
   "execution_count": null,
   "metadata": {
    "collapsed": false
   },
   "outputs": [],
   "source": []
  },
  {
   "cell_type": "code",
   "execution_count": null,
   "metadata": {
    "collapsed": true
   },
   "outputs": [],
   "source": []
  }
 ],
 "metadata": {
  "kernelspec": {
   "display_name": "Python 2",
   "language": "python",
   "name": "python2"
  },
  "language_info": {
   "codemirror_mode": {
    "name": "ipython",
    "version": 2
   },
   "file_extension": ".py",
   "mimetype": "text/x-python",
   "name": "python",
   "nbconvert_exporter": "python",
   "pygments_lexer": "ipython2",
   "version": "2.7.10"
  }
 },
 "nbformat": 4,
 "nbformat_minor": 0
}
