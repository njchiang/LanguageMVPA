{
 "cells": [
  {
   "cell_type": "code",
   "execution_count": 2,
   "metadata": {},
   "outputs": [],
   "source": [
    "#import packages\n",
    "import numpy as np\n",
    "import pylab as pl\n",
    "from os.path import join as pjoin\n",
    "from mvpa2.datasets import mri\n",
    "from mvpa2.misc import io as mvpaio"
   ]
  },
  {
   "cell_type": "code",
   "execution_count": 3,
   "metadata": {},
   "outputs": [],
   "source": [
    "# initialize data\n",
    "# projectDir=\"D:\\\\fmri\\\\LanguageMVPA\"\n",
    "# codeDir=\"D:\\GitHub\\LanguageMVPA\\multivariate\\python\"\n",
    "mask = \"grayMatter\"\n",
    "constrasts = [\"verb\", \"syntax\", \"anim\", \"stimtype\"]\n",
    "con = \"syntax\"\n",
    "\n",
    "projectDir = \"/Users/njchiang/Desktop/UCLA/scratchpad/LanguageMVPA\" \n",
    "codeDir = \"/Users/njchiang/GitHub/LanguageMVPA/multivariate/python\"\n",
    "betaPath = pjoin(projectDir, \"betas\")\n",
    "maskPath = pjoin(projectDir, \"masks\", \"sub\")\n",
    "labelPath = pjoin(codeDir, \"labels\")\n",
    "attr = mvpaio.SampleAttributes(pjoin(labelPath, str(con + \"_attribute_labels.txt\")))"
   ]
  },
  {
   "cell_type": "code",
   "execution_count": 4,
   "metadata": {},
   "outputs": [
    {
     "name": "stdout",
     "output_type": "stream",
     "text": [
      "WARNING: Detected incorrect (nan) scl_ fields. Resetting to scl_slope=1.0 and scl_inter=0.0\n * Please note: warnings are printed only once, but underlying problem might occur many times *\n"
     ]
    }
   ],
   "source": [
    "# load data\n",
    "sub = \"LMVPA006\"\n",
    "bSeriesName = str(sub + \"_LSA_Series.nii.gz\")\n",
    "maskName = str(sub+\"_\"+mask+\".nii.gz\")\n",
    "bSeries = pjoin(betaPath, bSeriesName)\n",
    "maskFile = pjoin(maskPath, maskName)\n",
    "\n",
    "\n",
    "ds = mri.fmri_dataset(samples=bSeries, \n",
    "                      targets=attr.targets, \n",
    "                      chunks=attr.chunks, \n",
    "                      mask=maskFile)\n",
    "ds = ds[0:32]"
   ]
  },
  {
   "cell_type": "code",
   "execution_count": 5,
   "metadata": {},
   "outputs": [],
   "source": [
    "# little helper function to plot dissimilarity matrices\n",
    "%matplotlib inline\n",
    "def plot_mtx(mtx, labels, title):\n",
    "    pl.figure()\n",
    "    pl.imshow(mtx, interpolation='nearest')\n",
    "    pl.xticks(range(len(mtx)), labels, rotation=-45)\n",
    "    pl.yticks(range(len(mtx)), labels)\n",
    "    pl.title(title)\n",
    "    pl.clim((0,1))\n",
    "    pl.colorbar()"
   ]
  },
  {
   "cell_type": "code",
   "execution_count": 6,
   "metadata": {},
   "outputs": [],
   "source": [
    "# compute a dataset with the mean samples for all conditions\n",
    "from mvpa2.mappers.fx import mean_group_sample\n",
    "mtgs = mean_group_sample(['targets'])\n",
    "mtds = mtgs(ds)"
   ]
  },
  {
   "cell_type": "code",
   "execution_count": 8,
   "metadata": {},
   "outputs": [
    {
     "data": {
      "image/png": "[encoded data removed]"
     },
     "output_type": "display_data",
     "text": [
      "<matplotlib.figure.Figure at 0x112c2a890>"
     ],
     "metadata": {}
    }
   ],
   "source": [
    "# basic ROI RSA -- dissimilarity matrix for the entire ROI\n",
    "from mvpa2.measures import rsa\n",
    "dsm = rsa.PDist(square=True)\n",
    "res = dsm(mtds)\n",
    "plot_mtx(res, mtds.sa.targets, 'ROI pattern correlation distances')"
   ]
  },
  {
   "cell_type": "code",
   "execution_count": 14,
   "metadata": {},
   "outputs": [],
   "source": [
    "# same as above, but done in a searchlight fashion\n",
    "from mvpa2.measures.searchlight import sphere_searchlight\n",
    "dsm = rsa.PDist(square=False)\n",
    "\n",
    "sl = sphere_searchlight(dsm, radius=3, nproc=1)\n",
    "slres = sl(mtds)"
   ]
  },
  {
   "cell_type": "code",
   "execution_count": 15,
   "metadata": {},
   "outputs": [
    {
     "name": "stdout",
     "output_type": "stream",
     "text": [
      "Most dissimilar patterns around [51 14 15]\n"
     ]
    },
    {
     "data": {
      "image/png": "[encoded data removed]"
     },
     "output_type": "display_data",
     "text": [
      "<matplotlib.figure.Figure at 0x117d44a90>"
     ],
     "metadata": {}
    }
   ],
   "source": [
    "# score each searchlight sphere result wrt global pattern dissimilarity\n",
    "distinctiveness = np.sum(np.abs(slres), axis=0)\n",
    "print 'Most dissimilar patterns around', \\\n",
    "        mtds.fa.voxel_indices[distinctiveness.argmax()]\n",
    "# take a look at the this dissimilarity structure\n",
    "from scipy.spatial.distance import squareform\n",
    "plot_mtx(squareform(slres.samples[:, distinctiveness.argmax()]),\n",
    "         mtds.sa.targets,\n",
    "         'Maximum distinctive searchlight pattern correlation distances')"
   ]
  },
  {
   "cell_type": "code",
   "execution_count": 16,
   "metadata": {},
   "outputs": [],
   "source": [
    "# more interesting: let's look at the stability of similarity sturctures\n",
    "# across experiment runs\n",
    "# mean condition samples, as before, but now individually for each run\n",
    "mtcgs = mean_group_sample(['targets', 'chunks'])\n",
    "mtcds = mtcgs(ds)"
   ]
  },
  {
   "cell_type": "code",
   "execution_count": 18,
   "metadata": {},
   "outputs": [],
   "source": [
    "# searchlight consistency measure -- how correlated are the structures\n",
    "# across runs\n",
    "dscm = rsa.PDistConsistency()\n",
    "sl_cons = sphere_searchlight(dscm, radius=3, nproc=1)\n",
    "slres_cons = sl_cons(mtcds)"
   ]
  },
  {
   "cell_type": "code",
   "execution_count": 19,
   "metadata": {},
   "outputs": [
    {
     "name": "stdout",
     "output_type": "stream",
     "text": [
      "Most stable dissimilarity patterns around [46 27  7]\n"
     ]
    },
    {
     "data": {
      "image/png": "[encoded data removed]"
     },
     "output_type": "display_data",
     "text": [
      "<matplotlib.figure.Figure at 0x123624310>"
     ],
     "metadata": {}
    }
   ],
   "source": [
    "# mean correlation\n",
    "mean_consistency = np.mean(slres_cons, axis=0)\n",
    "print 'Most stable dissimilarity patterns around', \\\n",
    "        mtds.fa.voxel_indices[mean_consistency.argmax()]\n",
    "# Look at this pattern\n",
    "plot_mtx(squareform(slres.samples[:, mean_consistency.argmax()]),\n",
    "         mtds.sa.targets,\n",
    "         'Most consistent searchlight pattern correlation distances')"
   ]
  },
  {
   "cell_type": "code",
   "execution_count": 20,
   "metadata": {},
   "outputs": [],
   "source": [
    "# let's see where in the brain we find dissimilarity structures that are\n",
    "# similar to our most stable one\n",
    "tdsm = rsa.PDistTargetSimilarity(\n",
    "            slres.samples[:, mean_consistency.argmax()])\n",
    "# using a searchlight\n",
    "from mvpa2.base.learner import ChainLearner\n",
    "from mvpa2.mappers.shape import TransposeMapper\n",
    "sl_tdsm = sphere_searchlight(ChainLearner([tdsm, TransposeMapper()]), radius=3, nproc=1)\n",
    "slres_tdsm = sl_tdsm(mtds)"
   ]
  },
  {
   "cell_type": "code",
   "execution_count": 23,
   "metadata": {},
   "outputs": [],
   "source": [
    "outPath = projectDir\n",
    "mri.map2nifti(ds, slres).to_filename(pjoin(outPath, sub+'_' + con + 'slres.nii.gz'))\n",
    "mri.map2nifti(ds, slres_cons).to_filename(pjoin(outPath, sub+'_' + con + 'slres_cons.nii.gz'))\n",
    "mri.map2nifti(ds, slres_tdsm).to_filename(pjoin(outPath, sub+'_' + con + 'slres_tdsm.nii.gz'))"
   ]
  },
  {
   "cell_type": "code",
   "execution_count": null,
   "metadata": {},
   "outputs": [],
   "source": [
    "\"\"\"\n",
    "# plot the spatial distribution using NiPy\n",
    "vol = ds.a.mapper.reverse1(slres_tdsm.samples[0])\n",
    "import nibabel as nb\n",
    "anat = nb.load(pjoin(datapath, 'sub001', 'anatomy', 'highres001.nii.gz'))\n",
    "\n",
    "from nipy.labs.viz_tools.activation_maps import plot_map\n",
    "pl.figure(figsize=(15,4))\n",
    "sp = pl.subplot(121)\n",
    "pl.title('Distribution of target similarity structure correlation')\n",
    "slices = plot_map(\n",
    "            vol,\n",
    "            ds.a.imgaffine,\n",
    "            cut_coords=np.array((12,-42,-20)),\n",
    "            threshold=.5,\n",
    "            cmap=\"bwr\",\n",
    "            vmin=0,\n",
    "            vmax=1.,\n",
    "            axes=sp,\n",
    "            anat=anat.get_data(),\n",
    "            anat_affine=anat.get_affine(),\n",
    "         )\n",
    "img = pl.gca().get_images()[1]\n",
    "cax = pl.axes([.05, .05, .05, .9])\n",
    "pl.colorbar(img, cax=cax)\n",
    "\n",
    "sp = pl.subplot(122)\n",
    "pl.hist(slres_tdsm.samples[0],\n",
    "        #range=(0,410),\n",
    "        normed=False,\n",
    "        bins=30,\n",
    "        color='0.6')\n",
    "pl.ylabel(\"Number of voxels\")\n",
    "pl.xlabel(\"Target similarity structure correlation\") \"\"\""
   ]
  }
 ],
 "metadata": {
  "kernelspec": {
   "display_name": "Python 2",
   "language": "python",
   "name": "python2"
  },
  "language_info": {
   "codemirror_mode": {
    "name": "ipython",
    "version": 2.0
   },
   "file_extension": ".py",
   "mimetype": "text/x-python",
   "name": "python",
   "nbconvert_exporter": "python",
   "pygments_lexer": "ipython2",
   "version": "2.7.10"
  }
 },
 "nbformat": 4,
 "nbformat_minor": 0
}